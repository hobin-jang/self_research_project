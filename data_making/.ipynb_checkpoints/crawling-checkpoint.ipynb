{
 "cells": [
  {
   "cell_type": "code",
   "execution_count": null,
   "metadata": {},
   "outputs": [],
   "source": [
    "pip install beautifulsoup4\n",
    "# 참고 : https://seopseop911.tistory.com/41"
   ]
  },
  {
   "cell_type": "code",
   "execution_count": null,
   "metadata": {},
   "outputs": [],
   "source": [
    "pip install selenium"
   ]
  },
  {
   "cell_type": "code",
   "execution_count": null,
   "metadata": {},
   "outputs": [],
   "source": [
    "from selenium import webdriver\n",
    "from bs4 import BeautifulSoup as soups\n",
    " \n",
    "def search_selenium(search_name, search_limit) :\n",
    "    # 구글 이미지 검색\n",
    "    search_url = \"https://www.google.com/search?q=\" + str(search_name) + \"&hl=ko&tbm=isch\"\n",
    "    # 크롬 드라이버 불러오기\n",
    "    browser = webdriver.Chrome('./chromedriver.exe')\n",
    "    browser.get(search_url)\n",
    "    # img 파일 불러오기\n",
    "    image_count = len(browser.find_elements_by_tag_name(\"img\"))\n",
    "    \n",
    "    print(\"로드된 이미지 개수 : \", image_count)\n",
    " \n",
    "    browser.implicitly_wait(2)\n",
    "    # 이미지 저장 \n",
    "    for i in range( search_limit ) :\n",
    "        image = browser.find_elements_by_tag_name(\"img\")[i]\n",
    "        image.screenshot(\"./img3/\" + str(i) + \".jpg\") # 맨 앞에 저장경로 설정.\n",
    " \n",
    "    browser.close()\n",
    " \n",
    "if __name__ == \"__main__\" :\n",
    " \n",
    "    search_name = input(\"검색하고 싶은 키워드 : \")\n",
    "    search_limit = int(input(\"원하는 이미지 수집 개수 : \"))\n",
    "    \n",
    "    search_selenium(search_name, search_limit)"
   ]
  },
  {
   "cell_type": "code",
   "execution_count": null,
   "metadata": {},
   "outputs": [],
   "source": []
  }
 ],
 "metadata": {
  "kernelspec": {
   "display_name": "python3.7",
   "language": "python",
   "name": "python3.7"
  },
  "language_info": {
   "codemirror_mode": {
    "name": "ipython",
    "version": 3
   },
   "file_extension": ".py",
   "mimetype": "text/x-python",
   "name": "python",
   "nbconvert_exporter": "python",
   "pygments_lexer": "ipython3",
   "version": "3.7.9"
  }
 },
 "nbformat": 4,
 "nbformat_minor": 4
}
