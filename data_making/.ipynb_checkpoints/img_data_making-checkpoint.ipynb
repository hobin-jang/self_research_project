{
 "cells": [
  {
   "cell_type": "code",
   "execution_count": null,
   "metadata": {},
   "outputs": [],
   "source": [
    "from PIL import Image\n",
    "import numpy as np"
   ]
  },
  {
   "cell_type": "code",
   "execution_count": null,
   "metadata": {},
   "outputs": [],
   "source": [
    "num = 1\n",
    "idx = 1\n",
    "while True:\n",
    "    if num > 500:\n",
    "        break\n",
    "    try:\n",
    "        img = Image.open('./img1/%d.jpg' %num)\n",
    "        img = img.resize((256,256))\n",
    "        img_arr = np.array(img)\n",
    "        if img_arr.shape != (256,256,3):\n",
    "            img_arr = img_arr[:,:,:3]\n",
    "        img = Image.fromarray(img_arr)\n",
    "        img.save('./data_img/%d.jpg' %idx)\n",
    "        idx += 1\n",
    "        num += 1\n",
    "        img.close()\n",
    "        if num % 10 == 0:\n",
    "            print(num)\n",
    "    except FileNotFoundError:\n",
    "        print(\"No file %d\" %num)\n",
    "        num += 1\n",
    "    finally:\n",
    "        img.close()"
   ]
  },
  {
   "cell_type": "code",
   "execution_count": null,
   "metadata": {},
   "outputs": [],
   "source": []
  },
  {
   "cell_type": "code",
   "execution_count": null,
   "metadata": {},
   "outputs": [],
   "source": []
  },
  {
   "cell_type": "code",
   "execution_count": null,
   "metadata": {},
   "outputs": [],
   "source": []
  },
  {
   "cell_type": "code",
   "execution_count": null,
   "metadata": {},
   "outputs": [],
   "source": []
  }
 ],
 "metadata": {
  "kernelspec": {
   "display_name": "python3.7",
   "language": "python",
   "name": "python3.7"
  },
  "language_info": {
   "codemirror_mode": {
    "name": "ipython",
    "version": 3
   },
   "file_extension": ".py",
   "mimetype": "text/x-python",
   "name": "python",
   "nbconvert_exporter": "python",
   "pygments_lexer": "ipython3",
   "version": "3.7.9"
  }
 },
 "nbformat": 4,
 "nbformat_minor": 4
}
