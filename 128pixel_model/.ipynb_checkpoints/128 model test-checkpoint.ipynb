{
 "cells": [
  {
   "cell_type": "code",
   "execution_count": null,
   "metadata": {
    "id": "TqnFheWsAOeJ"
   },
   "outputs": [],
   "source": [
    "from PIL import Image\n",
    "from tensorflow import keras\n",
    "import numpy as np\n",
    "import matplotlib.pyplot as plt\n",
    "\n",
    "from google.colab import drive\n",
    "drive.mount('./gdrive', force_remount=True)"
   ]
  },
  {
   "cell_type": "code",
   "execution_count": null,
   "metadata": {
    "id": "_ndcnlTCAasu"
   },
   "outputs": [],
   "source": [
    "# './gdrive/My Drive/Images/pickles/ecb128.pickle' 처럼 ecb, cbc, ofb 128 * 128 픽셀 이미지 array로 저장\n",
    "# ECB는 육안으로 구분 가능\n",
    "# CBC, OFB는 육안으로 구분 불가능\n",
    "# 256 * 256 데이터셋보다 128 * 128 이 현재 모델에서 학습이 더 잘 됨\n",
    "# 1채널 암호화와 3채널 암호화 육안으로 구분하기에는 차이 없지만 pickle에는 3채널 암호화 값 저장"
   ]
  },
  {
   "cell_type": "code",
   "execution_count": null,
   "metadata": {
    "id": "Bcz_O18HDCCA"
   },
   "outputs": [],
   "source": [
    "# pickle 파일 불러오기\n",
    "import pickle\n",
    "with open('./gdrive/My Drive/Images/pickles/ecb128.pickle', 'rb') as f:\n",
    "  ecb = pickle.load(f)\n",
    "  f.close()\n",
    "with open('./gdrive/My Drive/Images/pickles/cbc128.pickle', 'rb') as f:\n",
    "  cbc = pickle.load(f)\n",
    "  f.close()\n",
    "with open('./gdrive/My Drive/Images/pickles/ofb128.pickle', 'rb') as f:\n",
    "  ofb = pickle.load(f)\n",
    "  f.close()"
   ]
  },
  {
   "cell_type": "code",
   "execution_count": null,
   "metadata": {
    "id": "ihqLJJdUD34I"
   },
   "outputs": [],
   "source": [
    "# ECB, CBC 구분 모델 "
   ]
  },
  {
   "cell_type": "code",
   "execution_count": null,
   "metadata": {
    "id": "-Z5ujTbtFDXu"
   },
   "outputs": [],
   "source": [
    "# 정답 레이블 만들기\n",
    "# 0 : ECB, 1 : CBC\n",
    "ecb_label = [0 for _ in range(1000)]\n",
    "cbc_label = [1 for _ in range(1000)]\n",
    "label = ecb_label + cbc_label\n",
    "label = np.array(label)"
   ]
  },
  {
   "cell_type": "code",
   "execution_count": null,
   "metadata": {
    "id": "CI0v5iOWFXTb"
   },
   "outputs": [],
   "source": [
    "# ECB, CBC 데이터 합친 뒤 데이터 섞기\n",
    "data = np.concatenate((ecb, cbc), axis=0)\n",
    "print(data.shape)"
   ]
  },
  {
   "cell_type": "code",
   "execution_count": null,
   "metadata": {
    "id": "YUdiOGAxFZDn"
   },
   "outputs": [],
   "source": [
    "import random\n",
    "\n",
    "tmp = [[x, y] for x, y in zip(data, label)]\n",
    "random.shuffle(tmp)\n",
    "X = [n[0] for n in tmp]\n",
    "Y = [n[1] for n in tmp]\n",
    "X = np.array(X)\n",
    "Y = np.array(Y)\n",
    "print(X.shape)\n",
    "print(Y.shape)"
   ]
  },
  {
   "cell_type": "code",
   "execution_count": null,
   "metadata": {
    "id": "SGNzRT2uFvdw"
   },
   "outputs": [],
   "source": [
    "# 2000개 데이터 중 200개 검증용, 1800개 훈련용, 255로 나눠서 이미지화\n",
    "x_valid, x_train = X[:200] / 255, X[200:] / 255\n",
    "y_valid, y_train = Y[:200], Y[200:]"
   ]
  },
  {
   "cell_type": "code",
   "execution_count": null,
   "metadata": {
    "id": "xsg8k-ANF3FS"
   },
   "outputs": [],
   "source": [
    "# 개, 고양이 구분 예제와 비슷하게\n",
    "model = keras.models.Sequential([\n",
    "              keras.layers.Conv2D(32, 3, activation=\"relu\", padding=\"same\", input_shape=[128,128,3]),\n",
    "              keras.layers.MaxPooling2D(2, padding=\"valid\"),\n",
    "              keras.layers.Dropout(0.25),\n",
    "              keras.layers.Conv2D(64, 3, activation=\"relu\", padding=\"same\"),\n",
    "              keras.layers.MaxPooling2D(2, padding=\"valid\"),\n",
    "              keras.layers.Dropout(0.25),\n",
    "              keras.layers.Conv2D(128, 3, activation=\"relu\", padding=\"same\"),\n",
    "              keras.layers.MaxPooling2D(2, padding=\"valid\"),\n",
    "              keras.layers.Dropout(0.25),\n",
    "              keras.layers.Flatten(),\n",
    "              keras.layers.Dense(512, activation=\"relu\"),\n",
    "              keras.layers.Dropout(0.5),\n",
    "              keras.layers.Dense(2, activation=\"softmax\")\n",
    "])"
   ]
  },
  {
   "cell_type": "code",
   "execution_count": null,
   "metadata": {
    "id": "MmL9YsrMHEk9"
   },
   "outputs": [],
   "source": [
    "model.summary()"
   ]
  },
  {
   "cell_type": "code",
   "execution_count": null,
   "metadata": {
    "id": "x87uWGw8HH6-"
   },
   "outputs": [],
   "source": [
    "model.compile(optimizer=\"adam\", loss=\"sparse_categorical_crossentropy\", metrics=[\"accuracy\"])"
   ]
  },
  {
   "cell_type": "code",
   "execution_count": null,
   "metadata": {
    "id": "13z6SGd1HK05"
   },
   "outputs": [],
   "source": [
    "print(x_train.shape)\n",
    "print(x_valid.shape)\n",
    "print(y_train.shape)\n",
    "print(y_valid.shape)"
   ]
  },
  {
   "cell_type": "code",
   "execution_count": null,
   "metadata": {
    "id": "MfNaQoLhHM9E"
   },
   "outputs": [],
   "source": [
    "history = model.fit(x_train, y_train, epochs=30, validation_data=(x_valid, y_valid))"
   ]
  },
  {
   "cell_type": "code",
   "execution_count": null,
   "metadata": {
    "id": "4CTDJ6eEHV0C"
   },
   "outputs": [],
   "source": [
    "acc = history.history['accuracy']\n",
    "val_acc = history.history['val_accuracy']\n",
    "loss = history.history['loss']\n",
    "val_loss = history.history['val_loss']\n",
    "plt.plot(acc, label=\"accurcy\")\n",
    "plt.plot(val_acc, label=\"val_accuracy\")\n",
    "plt.plot(loss, label=\"loss\")\n",
    "plt.plot(val_loss, label=\"val_loss\")\n",
    "plt.ylim(0,1.0)\n",
    "plt.legend()\n",
    "plt.show()"
   ]
  },
  {
   "cell_type": "code",
   "execution_count": null,
   "metadata": {
    "id": "KUe8QbdMIAxv"
   },
   "outputs": [],
   "source": [
    "# ECB, CBC 구분 - 최종 정확도 : 98%"
   ]
  },
  {
   "cell_type": "code",
   "execution_count": null,
   "metadata": {
    "id": "5TIH5i5XNCQ1"
   },
   "outputs": [],
   "source": [
    "# CBC, OFB 구분 모델\n",
    "data2 = np.concatenate((ofb, cbc), axis=0)\n",
    "print(data2.shape)"
   ]
  },
  {
   "cell_type": "code",
   "execution_count": null,
   "metadata": {
    "id": "htnSxmchNQ7n"
   },
   "outputs": [],
   "source": [
    "# 정답 레이블 만들기\n",
    "# 0 : OFB, 1 : CBC\n",
    "ofb_label = [0 for _ in range(1000)]\n",
    "cbc_label = [1 for _ in range(1000)]\n",
    "label2 = ofb_label + cbc_label\n",
    "label2 = np.array(label2)"
   ]
  },
  {
   "cell_type": "code",
   "execution_count": null,
   "metadata": {
    "id": "mCeZGAFCNWay"
   },
   "outputs": [],
   "source": [
    "# 데이터 섞기\n",
    "import random\n",
    "\n",
    "tmp2 = [[x, y] for x, y in zip(data2, label2)]\n",
    "random.shuffle(tmp2)\n",
    "X2 = [n[0] for n in tmp2]\n",
    "Y2 = [n[1] for n in tmp2]\n",
    "X2 = np.array(X2)\n",
    "Y2 = np.array(Y2)\n",
    "print(X2.shape)\n",
    "print(Y2.shape)"
   ]
  },
  {
   "cell_type": "code",
   "execution_count": null,
   "metadata": {
    "id": "hxE2A0TCNjyy"
   },
   "outputs": [],
   "source": [
    "# 2000개 데이터 중 200개 검증용, 1800개 훈련용, 255로 나눠서 이미지화\n",
    "x_valid2, x_train2 = X2[:200] / 255, X2[200:] / 255\n",
    "y_valid2, y_train2 = Y2[:200], Y2[200:]"
   ]
  },
  {
   "cell_type": "code",
   "execution_count": null,
   "metadata": {
    "id": "2GjaI2pLNs-w"
   },
   "outputs": [],
   "source": [
    "# 위 모델과 마찬가지로 하기\n",
    "model2 = model"
   ]
  },
  {
   "cell_type": "code",
   "execution_count": null,
   "metadata": {
    "id": "OQeh81oSN2jV"
   },
   "outputs": [],
   "source": [
    "model2.summary()"
   ]
  },
  {
   "cell_type": "code",
   "execution_count": null,
   "metadata": {
    "id": "GxeQmDPYOKIH"
   },
   "outputs": [],
   "source": [
    "model2.compile(optimizer=\"adam\", loss=\"sparse_categorical_crossentropy\", metrics=[\"accuracy\"])"
   ]
  },
  {
   "cell_type": "code",
   "execution_count": null,
   "metadata": {
    "id": "rd6eVsc8OR3z"
   },
   "outputs": [],
   "source": [
    "history2 = model2.fit(x_train2, y_train2, epochs=30, validation_data=(x_valid2, y_valid2))"
   ]
  },
  {
   "cell_type": "code",
   "execution_count": null,
   "metadata": {
    "id": "CAcJTwIbOzAQ"
   },
   "outputs": [],
   "source": [
    "# 예상대로 CBC와 OFB는 구별 불가 (같은 모델 적용 시 50% 정확도)"
   ]
  },
  {
   "cell_type": "code",
   "execution_count": null,
   "metadata": {
    "id": "eouJQvOhPOr2"
   },
   "outputs": [],
   "source": [
    "acc2 = history2.history['accuracy']\n",
    "val_acc2 = history2.history['val_accuracy']\n",
    "loss2 = history2.history['loss']\n",
    "val_loss2 = history2.history['val_loss']\n",
    "plt.plot(acc2, label=\"accurcy\")\n",
    "plt.plot(val_acc2, label=\"val_accuracy\")\n",
    "plt.plot(loss2, label=\"loss\")\n",
    "plt.plot(val_loss2, label=\"val_loss\")\n",
    "plt.ylim(0,1.0)\n",
    "plt.legend()\n",
    "plt.show()"
   ]
  },
  {
   "cell_type": "code",
   "execution_count": null,
   "metadata": {
    "id": "W81ogxEkPV5S"
   },
   "outputs": [],
   "source": []
  }
 ],
 "metadata": {
  "accelerator": "GPU",
  "colab": {
   "authorship_tag": "ABX9TyMOKjuNicWjvL2wmHo8OANX",
   "collapsed_sections": [],
   "name": "128 model test.ipynb",
   "private_outputs": true,
   "provenance": []
  },
  "kernelspec": {
   "display_name": "Python 3",
   "language": "python",
   "name": "python3"
  },
  "language_info": {
   "name": "python"
  }
 },
 "nbformat": 4,
 "nbformat_minor": 1
}
