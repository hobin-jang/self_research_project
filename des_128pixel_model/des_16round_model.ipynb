{
  "nbformat": 4,
  "nbformat_minor": 0,
  "metadata": {
    "colab": {
      "name": "des 16round model.ipynb",
      "private_outputs": true,
      "provenance": [],
      "collapsed_sections": []
    },
    "kernelspec": {
      "name": "python3",
      "display_name": "Python 3"
    },
    "language_info": {
      "name": "python"
    },
    "accelerator": "GPU"
  },
  "cells": [
    {
      "cell_type": "code",
      "metadata": {
        "id": "ptnc-TMoNRC1"
      },
      "source": [
        "from PIL import Image\n",
        "from tensorflow import keras\n",
        "import numpy as np\n",
        "import matplotlib.pyplot as plt\n",
        "import pickle\n",
        "from google.colab import drive\n",
        "drive.mount('./gdrive', force_remount=True)"
      ],
      "execution_count": null,
      "outputs": []
    },
    {
      "cell_type": "code",
      "metadata": {
        "id": "OQhAxmZpN1Zl"
      },
      "source": [
        "# 구글 드라이브 ./gdrive/My Drive/Images/des_pickles 에 \n",
        "# DES ecb, cbc, ofb 128*128 픽셀 이미지 1,2,16 라운드 이미지 array 저장\n",
        "# 16라운드 암호화 진행 시 CBC, OFB는 육안으로 구분 불가"
      ],
      "execution_count": null,
      "outputs": []
    },
    {
      "cell_type": "code",
      "metadata": {
        "id": "nNkbKu-xOdRD"
      },
      "source": [
        "# pickle 불러오기\n",
        "with open('./gdrive/My Drive/Images/des_pickles/des_ecb_16r.pickle', 'rb') as f:\n",
        "  ecb16r = pickle.load(f)\n",
        "  f.close()\n",
        "with open('./gdrive/My Drive/Images/des_pickles/des_cbc_16r.pickle', 'rb') as f:\n",
        "  cbc16r = pickle.load(f)\n",
        "  f.close()"
      ],
      "execution_count": null,
      "outputs": []
    },
    {
      "cell_type": "code",
      "metadata": {
        "id": "3SYfAXJpO5y-"
      },
      "source": [
        "# 정답 레이블 만들기\n",
        "# 0 : ECB, 1 : CBC\n",
        "# CBC, OFB는 구분 불가하므로 ECB와 CBC 만을 이용해 학습\n",
        "ecb16r_label = [0 for _ in range(1000)]\n",
        "cbc16r_label = [1 for _ in range(1000)]\n",
        "label = ecb16r_label + cbc16r_label\n",
        "label = np.array(label)"
      ],
      "execution_count": null,
      "outputs": []
    },
    {
      "cell_type": "code",
      "metadata": {
        "id": "A9p1LXgZPLFU"
      },
      "source": [
        "# ECB, CBC 데이터 합치고 섞기\n",
        "data = np.concatenate((ecb16r, cbc16r), axis=0)"
      ],
      "execution_count": null,
      "outputs": []
    },
    {
      "cell_type": "code",
      "metadata": {
        "id": "73hKskOkSgVx"
      },
      "source": [
        "import random\n",
        "\n",
        "tmp = [[x, y] for x, y in zip(data, label)]\n",
        "random.shuffle(tmp)\n",
        "X = [n[0] for n in tmp]\n",
        "Y = [n[1] for n in tmp]\n",
        "X = np.array(X)\n",
        "Y = np.array(Y)"
      ],
      "execution_count": null,
      "outputs": []
    },
    {
      "cell_type": "code",
      "metadata": {
        "id": "LBb2leSgSiAm"
      },
      "source": [
        "# 2000개 데이터 200개 검증용, 1800개 훈련용으로, 255로 나눠서 이미지로\n",
        "x_valid, x_train = X[:200] / 255, X[200:] / 255\n",
        "y_valid, y_train = Y[:200], Y[200:]"
      ],
      "execution_count": null,
      "outputs": []
    },
    {
      "cell_type": "code",
      "metadata": {
        "id": "KpEXWiyZS0wi"
      },
      "source": [
        "# 기존 AES128 모델로 학습시킨 것과 동일한 모델\n",
        "model = keras.models.Sequential([\n",
        "              keras.layers.Conv2D(32, 3, activation=\"relu\", padding=\"same\", input_shape=[128,128,3]),\n",
        "              keras.layers.MaxPooling2D(2, padding=\"valid\"),\n",
        "              keras.layers.Dropout(0.25),\n",
        "              keras.layers.Conv2D(64, 3, activation=\"relu\", padding=\"same\"),\n",
        "              keras.layers.MaxPooling2D(2, padding=\"valid\"),\n",
        "              keras.layers.Dropout(0.25),\n",
        "              keras.layers.Conv2D(128, 3, activation=\"relu\", padding=\"same\"),\n",
        "              keras.layers.MaxPooling2D(2, padding=\"valid\"),\n",
        "              keras.layers.Dropout(0.25),\n",
        "              keras.layers.Flatten(),\n",
        "              keras.layers.Dense(512, activation=\"relu\"),\n",
        "              keras.layers.Dropout(0.5),\n",
        "              keras.layers.Dense(2, activation=\"softmax\")\n",
        "])"
      ],
      "execution_count": null,
      "outputs": []
    },
    {
      "cell_type": "code",
      "metadata": {
        "id": "cdLHnvoaTIVK"
      },
      "source": [
        "model.summary()"
      ],
      "execution_count": null,
      "outputs": []
    },
    {
      "cell_type": "code",
      "metadata": {
        "id": "DSy9VU7mUHfm"
      },
      "source": [
        "model.compile(optimizer=\"adam\", loss=\"sparse_categorical_crossentropy\", metrics=[\"accuracy\"])"
      ],
      "execution_count": null,
      "outputs": []
    },
    {
      "cell_type": "code",
      "metadata": {
        "id": "nLU4tpWYUTWd"
      },
      "source": [
        "history = model.fit(x_train, y_train, epochs=30, validation_data=(x_valid, y_valid))"
      ],
      "execution_count": null,
      "outputs": []
    },
    {
      "cell_type": "code",
      "metadata": {
        "id": "smo94BPOcHis"
      },
      "source": [
        "acc = history.history['accuracy']\n",
        "val_acc = history.history['val_accuracy']\n",
        "loss = history.history['loss']\n",
        "val_loss = history.history['val_loss']\n",
        "plt.plot(acc, label=\"accuracy\")\n",
        "plt.plot(val_acc, label=\"val_accuracy\")\n",
        "plt.plot(loss, label=\"loss\")\n",
        "plt.plot(val_loss, label=\"val_loss\")\n",
        "plt.xlabel('epoch')\n",
        "plt.ylabel('ratio')\n",
        "plt.ylim(0, 1.0)\n",
        "plt.legend()\n",
        "plt.show()"
      ],
      "execution_count": null,
      "outputs": []
    },
    {
      "cell_type": "code",
      "metadata": {
        "id": "bT3FXSMOdbSn"
      },
      "source": [
        "# OFB, CBC 16round 판별 유무 확인\n",
        "with open('./gdrive/My Drive/Images/des_pickles/des_ofb_16r.pickle', 'rb') as f:\n",
        "  ofb16r = pickle.load(f)\n",
        "  f.close()"
      ],
      "execution_count": null,
      "outputs": []
    },
    {
      "cell_type": "code",
      "metadata": {
        "id": "5KWjE-w-eGje"
      },
      "source": [
        "# 정답 레이블 만들기\n",
        "# 0 : OFB, 1 : CBC\n",
        "ofb16r_label = [0 for _ in range(1000)]\n",
        "cbc16r_label = [1 for _ in range(1000)]\n",
        "label2 = ofb16r_label + cbc16r_label\n",
        "label2 = np.array(label2)"
      ],
      "execution_count": null,
      "outputs": []
    },
    {
      "cell_type": "code",
      "metadata": {
        "id": "80k_4x39eQyL"
      },
      "source": [
        "# OFB, CBC 데이터 합치고 섞기\n",
        "data2 = np.concatenate((ofb16r, cbc16r), axis=0)"
      ],
      "execution_count": null,
      "outputs": []
    },
    {
      "cell_type": "code",
      "metadata": {
        "id": "uWJ0KxiFeWFt"
      },
      "source": [
        "tmp2 = [[x, y] for x, y in zip(data2, label2)]\n",
        "random.shuffle(tmp2)\n",
        "X2 = [n[0] for n in tmp2]\n",
        "Y2 = [n[1] for n in tmp2]\n",
        "X2 = np.array(X2)\n",
        "Y2 = np.array(Y2)"
      ],
      "execution_count": null,
      "outputs": []
    },
    {
      "cell_type": "code",
      "metadata": {
        "id": "v-4aW-0aeeRf"
      },
      "source": [
        "# 2000개 데이터 200개 검증용, 1800개 훈련용으로, 255로 나눠서 이미지로\n",
        "x_valid2, x_train2 = X2[:200] / 255, X2[200:] / 255\n",
        "y_valid2, y_train2 = Y2[:200], Y2[200:]"
      ],
      "execution_count": null,
      "outputs": []
    },
    {
      "cell_type": "code",
      "metadata": {
        "id": "zsg2xIqXek0Z"
      },
      "source": [
        "history2 = model.fit(x_train2, y_train2, epochs=30, validation_data=(x_valid2, y_valid2))"
      ],
      "execution_count": null,
      "outputs": []
    },
    {
      "cell_type": "code",
      "metadata": {
        "id": "tPinXn7oexEQ"
      },
      "source": [
        "acc2 = history2.history['accuracy']\n",
        "val_acc2 = history2.history['val_accuracy']\n",
        "loss2 = history2.history['loss']\n",
        "val_loss2 = history2.history['val_loss']\n",
        "plt.plot(acc2, label=\"accuracy\")\n",
        "plt.plot(val_acc2, label=\"val_accuracy\")\n",
        "plt.plot(loss2, label=\"loss\")\n",
        "plt.plot(val_loss2, label=\"val_loss\")\n",
        "plt.xlabel('epoch')\n",
        "plt.ylabel('ratio')\n",
        "plt.ylim(0, 1.0)\n",
        "plt.legend()\n",
        "plt.show()"
      ],
      "execution_count": null,
      "outputs": []
    },
    {
      "cell_type": "code",
      "metadata": {
        "id": "lMDvA_M5gqsT"
      },
      "source": [
        ""
      ],
      "execution_count": null,
      "outputs": []
    }
  ]
}