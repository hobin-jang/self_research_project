{
  "nbformat": 4,
  "nbformat_minor": 0,
  "metadata": {
    "colab": {
      "name": "des_2round_model.ipynb",
      "private_outputs": true,
      "provenance": [],
      "collapsed_sections": []
    },
    "kernelspec": {
      "name": "python3",
      "display_name": "Python 3"
    },
    "language_info": {
      "name": "python"
    }
  },
  "cells": [
    {
      "cell_type": "code",
      "metadata": {
        "id": "-I9fWiZOzkJB"
      },
      "source": [
        "from PIL import Image\n",
        "from tensorflow import keras\n",
        "import numpy as np\n",
        "import matplotlib.pyplot as plt\n",
        "import pickle\n",
        "import random\n",
        "from google.colab import drive\n",
        "drive.mount('./gdrive', force_remount=True)"
      ],
      "execution_count": null,
      "outputs": []
    },
    {
      "cell_type": "code",
      "metadata": {
        "id": "furbSY2ezofG"
      },
      "source": [
        "# pickle 불러오기\n",
        "with open('./gdrive/My Drive/Images/des_pickles/des_ecb_2r.pickle', 'rb') as f:\n",
        "  ecb_pkl = pickle.load(f)\n",
        "  f.close()\n",
        "with open('./gdrive/My Drive/Images/des_pickles/des_cbc_2r.pickle', 'rb') as f:\n",
        "  cbc_pkl = pickle.load(f)\n",
        "  f.close()\n",
        "with open('./gdrive/My Drive/Images/des_pickles/des_ofb_2r.pickle', 'rb') as f:\n",
        "  ofb_pkl = pickle.load(f)"
      ],
      "execution_count": null,
      "outputs": []
    },
    {
      "cell_type": "code",
      "metadata": {
        "id": "VUEc90TIzp1B"
      },
      "source": [
        "# 정답 레이블\n",
        "ecb_label = [0 for _ in range(1000)]\n",
        "cbc_label = [1 for _ in range(1000)]\n",
        "ofb_label = [2 for _ in range(1000)]\n",
        "# label1 : ECB, CBC 1라운드 구분 모델 정답 레이블\n",
        "# label2 : CBC, OFB 1라운드 구분 모델 정답 레이블\n",
        "# label3 : ECB, OFB 1라운드 구분 모델 정답 레이블\n",
        "# label4 : ECB, CBC, OFB 1라운드 구분 모델 정답 레이블\n",
        "#label1 = np.array(ecb_label + cbc_label)\n",
        "#label2 = np.array(cbc_label + ofb_label)\n",
        "#label3 = np.array(ecb_label + ofb_label)\n",
        "label4 = np.array(ecb_label + cbc_label + ofb_label)"
      ],
      "execution_count": null,
      "outputs": []
    },
    {
      "cell_type": "code",
      "metadata": {
        "id": "bXZVixeozxPl"
      },
      "source": [
        "# data1 : ECB, CBC 1라운드 데이터 합치고 섞기\n",
        "# data2 : CBC, OFB 1라운드 데이터 합치고 섞기\n",
        "# data3 : ECB, OFB 1라운드 데이터 합치고 섞기\n",
        "# data4 : ECB, CBC, OFB 1라운드 데이터 합치고 섞기\n",
        "\n",
        "#data1 = np.concatenate((ecb_pkl, cbc_pkl), axis=0)\n",
        "#data2 = np.concatenate((cbc_pkl, ofb_pkl), axis=0)\n",
        "#data3 = np.concatenate((ecb_pkl, ofb_pkl), axis=0)\n",
        "data4 = np.concatenate((ecb_pkl, cbc_pkl, ofb_pkl), axis=0)\n",
        "\n",
        "#tmp1 = [[x, y] for x, y in zip(data1, label1)]\n",
        "#tmp2 = [[x, y] for x, y in zip(data2, label2)]\n",
        "#tmp3 = [[x, y] for x, y in zip(data3, label3)]\n",
        "tmp4 = [[x, y] for x, y in zip(data4, label4)]\n",
        "\n",
        "#random.shuffle(tmp1)\n",
        "#random.shuffle(tmp2)\n",
        "#random.shuffle(tmp3)\n",
        "random.shuffle(tmp4)\n",
        "\n",
        "#X1 = np.array([n[0] for n in tmp1])\n",
        "#Y1 = np.array([n[1] for n in tmp1])\n",
        "#X2 = np.array([n[0] for n in tmp2])\n",
        "#Y2 = np.array([n[1] for n in tmp2])\n",
        "#X3 = np.array([n[0] for n in tmp3])\n",
        "#Y3 = np.array([n[1] for n in tmp3])\n",
        "X4 = np.array([n[0] for n in tmp4])\n",
        "Y4 = np.array([n[1] for n in tmp4])"
      ],
      "execution_count": null,
      "outputs": []
    },
    {
      "cell_type": "code",
      "metadata": {
        "id": "JM8cYVISz51X"
      },
      "source": [
        "#x_valid1, x_train1 = X1[:200] / 255, X1[200:] / 255\n",
        "#x_valid2, x_train2 = X2[:200] / 255, X2[200:] / 255\n",
        "#x_valid3, x_train3 = X3[:200] / 255, X3[200:] / 255\n",
        "x_valid4, x_train4 = X4[:300] / 255, X4[300:] / 255\n",
        "#y_valid1, y_train1 = Y1[:200], Y1[200:]\n",
        "#y_valid2, y_train2 = Y2[:200], Y2[200:]\n",
        "#y_valid3, y_train3 = Y3[:200], Y3[200:]\n",
        "y_valid4, y_train4 = Y4[:300], Y4[300:]"
      ],
      "execution_count": null,
      "outputs": []
    },
    {
      "cell_type": "code",
      "metadata": {
        "id": "rH2n_H9Pz90q"
      },
      "source": [
        "model = keras.models.Sequential([\n",
        "              keras.layers.Conv2D(32, kernel_size=(4,1), activation=\"relu\", strides=(1,4), padding=\"same\", input_shape=(128,128,3)),\n",
        "              keras.layers.MaxPool2D(pool_size=(2,1), padding=\"valid\"),\n",
        "              keras.layers.Dropout(0.25),\n",
        "              keras.layers.Conv2D(64, kernel_size=(4,1), activation=\"relu\", strides=(1,4), padding=\"same\"),\n",
        "              keras.layers.MaxPool2D(pool_size=(2,1), padding=\"valid\"),\n",
        "              keras.layers.Dropout(0.25),\n",
        "              keras.layers.Conv2D(128, kernel_size=(4,1), activation=\"relu\", strides=(1,4), padding=\"same\"),\n",
        "              keras.layers.MaxPool2D(pool_size=(2,1), padding=\"valid\"),\n",
        "              keras.layers.Dropout(0.25),\n",
        "              keras.layers.Flatten(),\n",
        "              keras.layers.Dense(512, activation=\"relu\"),\n",
        "              keras.layers.Dropout(0.5),\n",
        "              keras.layers.Dense(3, activation=\"softmax\")\n",
        "])"
      ],
      "execution_count": null,
      "outputs": []
    },
    {
      "cell_type": "code",
      "metadata": {
        "id": "a2nvXrj_0AwO"
      },
      "source": [
        "model.summary()"
      ],
      "execution_count": null,
      "outputs": []
    },
    {
      "cell_type": "code",
      "metadata": {
        "id": "nbHh-T340B9m"
      },
      "source": [
        "model.compile(optimizer=\"adam\", loss=\"sparse_categorical_crossentropy\", metrics=\"accuracy\")"
      ],
      "execution_count": null,
      "outputs": []
    },
    {
      "cell_type": "code",
      "metadata": {
        "id": "Tf53q4ym0Eth"
      },
      "source": [
        "# history1 : data1, label1\n",
        "# history2 : data2, label2\n",
        "# history3 : data3, label3\n",
        "# history4 : data4, label4\n",
        "\n",
        "#history1 = model.fit(x_train1, y_train1, epochs=30, validation_data=(x_valid1, y_valid1))\n",
        "#history2 = model.fit(x_train2, y_train2, epochs=30, validation_data=(x_valid2, y_valid2))\n",
        "#history3 = model.fit(x_train3, y_train3, epochs=30, validation_data=(x_valid3, y_valid3))\n",
        "history4 = model.fit(x_train4, y_train4, epochs=30, validation_data=(x_valid4, y_valid4))"
      ],
      "execution_count": null,
      "outputs": []
    },
    {
      "cell_type": "code",
      "metadata": {
        "id": "KMgZHFHw0MOE"
      },
      "source": [
        "def accuracy_plot(history):\n",
        "  acc = history.history['accuracy']\n",
        "  val_acc = history.history['val_accuracy']\n",
        "  loss = history.history['loss']\n",
        "  val_loss = history.history['val_loss']\n",
        "  plt.plot(acc, label=\"accuracy\")\n",
        "  plt.plot(val_acc, label=\"val_accuracy\")\n",
        "  plt.plot(loss, label=\"loss\")\n",
        "  plt.plot(val_loss, label=\"val_loss\")\n",
        "  plt.xlabel('epoch')\n",
        "  plt.ylabel('ratio')\n",
        "  plt.ylim(0, 1.0)\n",
        "  plt.legend()\n",
        "  plt.show()\n",
        "  return"
      ],
      "execution_count": null,
      "outputs": []
    },
    {
      "cell_type": "code",
      "metadata": {
        "id": "Pg3lt3an0OeY"
      },
      "source": [
        "#accuracy_plot(history1)\n",
        "#accuracy_plot(history2)\n",
        "#accuracy_plot(history3)\n",
        "accuracy_plot(history4)"
      ],
      "execution_count": null,
      "outputs": []
    }
  ]
}